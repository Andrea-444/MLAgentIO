{
 "cells": [
  {
   "cell_type": "code",
   "id": "initial_id",
   "metadata": {
    "collapsed": true,
    "ExecuteTime": {
     "end_time": "2025-02-05T17:18:05.638149Z",
     "start_time": "2025-02-05T17:18:05.632848Z"
    }
   },
   "source": "import pandas as pd",
   "outputs": [],
   "execution_count": 1
  },
  {
   "metadata": {
    "ExecuteTime": {
     "end_time": "2025-02-05T17:21:14.482508Z",
     "start_time": "2025-02-05T17:21:14.471638Z"
    }
   },
   "cell_type": "code",
   "source": [
    "documents = [\"./data/paradetox/train_en.txt\", \"./data/paradetox/test_en.txt\", \"./data/paradetox/val_en.txt\"]\n",
    "types = [\"train\", \"test\", \"val\"]"
   ],
   "id": "a79d58199a685665",
   "outputs": [],
   "execution_count": 10
  },
  {
   "metadata": {
    "ExecuteTime": {
     "end_time": "2025-02-05T17:21:14.710076Z",
     "start_time": "2025-02-05T17:21:14.705843Z"
    }
   },
   "cell_type": "code",
   "source": "all_documents = dict()",
   "id": "c6071f11a733b476",
   "outputs": [],
   "execution_count": 11
  },
  {
   "metadata": {
    "ExecuteTime": {
     "end_time": "2025-02-05T17:21:14.999972Z",
     "start_time": "2025-02-05T17:21:14.985380Z"
    }
   },
   "cell_type": "code",
   "source": [
    "for document, type in zip(documents, types):\n",
    "    with open(document, mode=\"r\", encoding=\"utf-8\") as file:\n",
    "        all_documents[type] = file.read()"
   ],
   "id": "9ab9c1de310a6ef5",
   "outputs": [],
   "execution_count": 12
  },
  {
   "metadata": {
    "ExecuteTime": {
     "end_time": "2025-02-05T17:25:10.513833Z",
     "start_time": "2025-02-05T17:25:10.507734Z"
    }
   },
   "cell_type": "code",
   "source": "datasets = dict()",
   "id": "85310cf9863db5e8",
   "outputs": [],
   "execution_count": 16
  },
  {
   "metadata": {
    "ExecuteTime": {
     "end_time": "2025-02-05T17:25:12.409656Z",
     "start_time": "2025-02-05T17:25:12.387852Z"
    }
   },
   "cell_type": "code",
   "source": [
    "for type in all_documents:\n",
    "    full_document = all_documents[type]\n",
    "    lines = full_document.split(\"\\n\")\n",
    "    dataset = {\"Text\":[], \"Label\" : []}\n",
    "    for line in lines:\n",
    "        parts = line.split(\"\\t\")\n",
    "        if len(parts) < 2:\n",
    "            continue\n",
    "        \n",
    "        dataset[\"Text\"].append(parts[0])\n",
    "        dataset[\"Label\"].append(parts[1])\n",
    "    datasets[type] = dataset\n",
    "\n"
   ],
   "id": "b63b7bb53624edcb",
   "outputs": [],
   "execution_count": 17
  },
  {
   "metadata": {
    "ExecuteTime": {
     "end_time": "2025-02-05T17:25:53.634969Z",
     "start_time": "2025-02-05T17:25:53.616043Z"
    }
   },
   "cell_type": "code",
   "source": [
    "train = pd.DataFrame(datasets[\"train\"])\n",
    "test = pd.DataFrame(datasets[\"test\"])\n",
    "val = pd.DataFrame(datasets[\"val\"])"
   ],
   "id": "40bcd215e16c9fa",
   "outputs": [],
   "execution_count": 19
  },
  {
   "metadata": {
    "ExecuteTime": {
     "end_time": "2025-02-05T17:26:34.235678Z",
     "start_time": "2025-02-05T17:26:34.222385Z"
    }
   },
   "cell_type": "code",
   "source": [
    "train = train.iloc[1:]\n",
    "test = test.iloc[1:]\n",
    "val = val.iloc[1:]"
   ],
   "id": "3444ae603783256e",
   "outputs": [],
   "execution_count": 22
  },
  {
   "metadata": {
    "ExecuteTime": {
     "end_time": "2025-02-05T17:27:24.434749Z",
     "start_time": "2025-02-05T17:27:24.425587Z"
    }
   },
   "cell_type": "code",
   "source": "train",
   "id": "2a6ec2d1439067f2",
   "outputs": [
    {
     "data": {
      "text/plain": [
       "                                                    Text    Label\n",
       "1                               he had steel balls too !    toxic\n",
       "2      dude should have been taken to api , he would ...    toxic\n",
       "3      im not gonna sell the fucking picture , i just...    toxic\n",
       "4      the garbage that is being created by cnn and o...    toxic\n",
       "5      the reason they dont exist is because neither ...    toxic\n",
       "...                                                  ...      ...\n",
       "25036  both sides need to calm down or we are heading...  neutral\n",
       "25037  i 'm sitting here in my calm german city conte...  neutral\n",
       "25038                                dude , get a clue .  neutral\n",
       "25039                     I was so high, it was amazing.  neutral\n",
       "25040                                   pay your bills .  neutral\n",
       "\n",
       "[25040 rows x 2 columns]"
      ],
      "text/html": [
       "<div>\n",
       "<style scoped>\n",
       "    .dataframe tbody tr th:only-of-type {\n",
       "        vertical-align: middle;\n",
       "    }\n",
       "\n",
       "    .dataframe tbody tr th {\n",
       "        vertical-align: top;\n",
       "    }\n",
       "\n",
       "    .dataframe thead th {\n",
       "        text-align: right;\n",
       "    }\n",
       "</style>\n",
       "<table border=\"1\" class=\"dataframe\">\n",
       "  <thead>\n",
       "    <tr style=\"text-align: right;\">\n",
       "      <th></th>\n",
       "      <th>Text</th>\n",
       "      <th>Label</th>\n",
       "    </tr>\n",
       "  </thead>\n",
       "  <tbody>\n",
       "    <tr>\n",
       "      <th>1</th>\n",
       "      <td>he had steel balls too !</td>\n",
       "      <td>toxic</td>\n",
       "    </tr>\n",
       "    <tr>\n",
       "      <th>2</th>\n",
       "      <td>dude should have been taken to api , he would ...</td>\n",
       "      <td>toxic</td>\n",
       "    </tr>\n",
       "    <tr>\n",
       "      <th>3</th>\n",
       "      <td>im not gonna sell the fucking picture , i just...</td>\n",
       "      <td>toxic</td>\n",
       "    </tr>\n",
       "    <tr>\n",
       "      <th>4</th>\n",
       "      <td>the garbage that is being created by cnn and o...</td>\n",
       "      <td>toxic</td>\n",
       "    </tr>\n",
       "    <tr>\n",
       "      <th>5</th>\n",
       "      <td>the reason they dont exist is because neither ...</td>\n",
       "      <td>toxic</td>\n",
       "    </tr>\n",
       "    <tr>\n",
       "      <th>...</th>\n",
       "      <td>...</td>\n",
       "      <td>...</td>\n",
       "    </tr>\n",
       "    <tr>\n",
       "      <th>25036</th>\n",
       "      <td>both sides need to calm down or we are heading...</td>\n",
       "      <td>neutral</td>\n",
       "    </tr>\n",
       "    <tr>\n",
       "      <th>25037</th>\n",
       "      <td>i 'm sitting here in my calm german city conte...</td>\n",
       "      <td>neutral</td>\n",
       "    </tr>\n",
       "    <tr>\n",
       "      <th>25038</th>\n",
       "      <td>dude , get a clue .</td>\n",
       "      <td>neutral</td>\n",
       "    </tr>\n",
       "    <tr>\n",
       "      <th>25039</th>\n",
       "      <td>I was so high, it was amazing.</td>\n",
       "      <td>neutral</td>\n",
       "    </tr>\n",
       "    <tr>\n",
       "      <th>25040</th>\n",
       "      <td>pay your bills .</td>\n",
       "      <td>neutral</td>\n",
       "    </tr>\n",
       "  </tbody>\n",
       "</table>\n",
       "<p>25040 rows × 2 columns</p>\n",
       "</div>"
      ]
     },
     "execution_count": 27,
     "metadata": {},
     "output_type": "execute_result"
    }
   ],
   "execution_count": 27
  },
  {
   "metadata": {
    "ExecuteTime": {
     "end_time": "2025-02-05T17:27:28.158146Z",
     "start_time": "2025-02-05T17:27:28.134992Z"
    }
   },
   "cell_type": "code",
   "source": "test",
   "id": "96b08467c14e16e5",
   "outputs": [
    {
     "data": {
      "text/plain": [
       "                                                   Text    Label\n",
       "1     this is a free country that protectsamendment ...    toxic\n",
       "2                 generous seperation packages my ass !    toxic\n",
       "3     obama has been a total failure , and now looks...    toxic\n",
       "4     voting for her if the examiner and mitch the e...    toxic\n",
       "5     the message is pbot doesnt give a shit about y...    toxic\n",
       "...                                                 ...      ...\n",
       "3128  We already have a lot of indians coming here d...  neutral\n",
       "3129  If they used it, they are responsible for it, ...  neutral\n",
       "3130       i don 't know why people are downvoting me .  neutral\n",
       "3131                                 They mistreat you.  neutral\n",
       "3132                i think this cop already feels bad.  neutral\n",
       "\n",
       "[3132 rows x 2 columns]"
      ],
      "text/html": [
       "<div>\n",
       "<style scoped>\n",
       "    .dataframe tbody tr th:only-of-type {\n",
       "        vertical-align: middle;\n",
       "    }\n",
       "\n",
       "    .dataframe tbody tr th {\n",
       "        vertical-align: top;\n",
       "    }\n",
       "\n",
       "    .dataframe thead th {\n",
       "        text-align: right;\n",
       "    }\n",
       "</style>\n",
       "<table border=\"1\" class=\"dataframe\">\n",
       "  <thead>\n",
       "    <tr style=\"text-align: right;\">\n",
       "      <th></th>\n",
       "      <th>Text</th>\n",
       "      <th>Label</th>\n",
       "    </tr>\n",
       "  </thead>\n",
       "  <tbody>\n",
       "    <tr>\n",
       "      <th>1</th>\n",
       "      <td>this is a free country that protectsamendment ...</td>\n",
       "      <td>toxic</td>\n",
       "    </tr>\n",
       "    <tr>\n",
       "      <th>2</th>\n",
       "      <td>generous seperation packages my ass !</td>\n",
       "      <td>toxic</td>\n",
       "    </tr>\n",
       "    <tr>\n",
       "      <th>3</th>\n",
       "      <td>obama has been a total failure , and now looks...</td>\n",
       "      <td>toxic</td>\n",
       "    </tr>\n",
       "    <tr>\n",
       "      <th>4</th>\n",
       "      <td>voting for her if the examiner and mitch the e...</td>\n",
       "      <td>toxic</td>\n",
       "    </tr>\n",
       "    <tr>\n",
       "      <th>5</th>\n",
       "      <td>the message is pbot doesnt give a shit about y...</td>\n",
       "      <td>toxic</td>\n",
       "    </tr>\n",
       "    <tr>\n",
       "      <th>...</th>\n",
       "      <td>...</td>\n",
       "      <td>...</td>\n",
       "    </tr>\n",
       "    <tr>\n",
       "      <th>3128</th>\n",
       "      <td>We already have a lot of indians coming here d...</td>\n",
       "      <td>neutral</td>\n",
       "    </tr>\n",
       "    <tr>\n",
       "      <th>3129</th>\n",
       "      <td>If they used it, they are responsible for it, ...</td>\n",
       "      <td>neutral</td>\n",
       "    </tr>\n",
       "    <tr>\n",
       "      <th>3130</th>\n",
       "      <td>i don 't know why people are downvoting me .</td>\n",
       "      <td>neutral</td>\n",
       "    </tr>\n",
       "    <tr>\n",
       "      <th>3131</th>\n",
       "      <td>They mistreat you.</td>\n",
       "      <td>neutral</td>\n",
       "    </tr>\n",
       "    <tr>\n",
       "      <th>3132</th>\n",
       "      <td>i think this cop already feels bad.</td>\n",
       "      <td>neutral</td>\n",
       "    </tr>\n",
       "  </tbody>\n",
       "</table>\n",
       "<p>3132 rows × 2 columns</p>\n",
       "</div>"
      ]
     },
     "execution_count": 28,
     "metadata": {},
     "output_type": "execute_result"
    }
   ],
   "execution_count": 28
  },
  {
   "metadata": {
    "ExecuteTime": {
     "end_time": "2025-02-05T17:27:32.504067Z",
     "start_time": "2025-02-05T17:27:32.495572Z"
    }
   },
   "cell_type": "code",
   "source": "val",
   "id": "a78934b61a3c44b",
   "outputs": [
    {
     "data": {
      "text/plain": [
       "                                                   Text    Label\n",
       "1            honestly catcalling really sounds stupid .    toxic\n",
       "2             the police dont have time for this crap .    toxic\n",
       "3     if any of the cry babies who dont respect demo...    toxic\n",
       "4     these exam retakes and try until you pass idea...    toxic\n",
       "5     the crisis of opioid deaths is a direct result...    toxic\n",
       "...                                                 ...      ...\n",
       "3126  fly around that 72 72 and don 't let anything ...  neutral\n",
       "3127  Probably because the source,content, html layo...  neutral\n",
       "3128                            He is a Junior senator.  neutral\n",
       "3129                              You gotta inject that  neutral\n",
       "3130  Hamas is winning this battle despite the gazan...  neutral\n",
       "\n",
       "[3130 rows x 2 columns]"
      ],
      "text/html": [
       "<div>\n",
       "<style scoped>\n",
       "    .dataframe tbody tr th:only-of-type {\n",
       "        vertical-align: middle;\n",
       "    }\n",
       "\n",
       "    .dataframe tbody tr th {\n",
       "        vertical-align: top;\n",
       "    }\n",
       "\n",
       "    .dataframe thead th {\n",
       "        text-align: right;\n",
       "    }\n",
       "</style>\n",
       "<table border=\"1\" class=\"dataframe\">\n",
       "  <thead>\n",
       "    <tr style=\"text-align: right;\">\n",
       "      <th></th>\n",
       "      <th>Text</th>\n",
       "      <th>Label</th>\n",
       "    </tr>\n",
       "  </thead>\n",
       "  <tbody>\n",
       "    <tr>\n",
       "      <th>1</th>\n",
       "      <td>honestly catcalling really sounds stupid .</td>\n",
       "      <td>toxic</td>\n",
       "    </tr>\n",
       "    <tr>\n",
       "      <th>2</th>\n",
       "      <td>the police dont have time for this crap .</td>\n",
       "      <td>toxic</td>\n",
       "    </tr>\n",
       "    <tr>\n",
       "      <th>3</th>\n",
       "      <td>if any of the cry babies who dont respect demo...</td>\n",
       "      <td>toxic</td>\n",
       "    </tr>\n",
       "    <tr>\n",
       "      <th>4</th>\n",
       "      <td>these exam retakes and try until you pass idea...</td>\n",
       "      <td>toxic</td>\n",
       "    </tr>\n",
       "    <tr>\n",
       "      <th>5</th>\n",
       "      <td>the crisis of opioid deaths is a direct result...</td>\n",
       "      <td>toxic</td>\n",
       "    </tr>\n",
       "    <tr>\n",
       "      <th>...</th>\n",
       "      <td>...</td>\n",
       "      <td>...</td>\n",
       "    </tr>\n",
       "    <tr>\n",
       "      <th>3126</th>\n",
       "      <td>fly around that 72 72 and don 't let anything ...</td>\n",
       "      <td>neutral</td>\n",
       "    </tr>\n",
       "    <tr>\n",
       "      <th>3127</th>\n",
       "      <td>Probably because the source,content, html layo...</td>\n",
       "      <td>neutral</td>\n",
       "    </tr>\n",
       "    <tr>\n",
       "      <th>3128</th>\n",
       "      <td>He is a Junior senator.</td>\n",
       "      <td>neutral</td>\n",
       "    </tr>\n",
       "    <tr>\n",
       "      <th>3129</th>\n",
       "      <td>You gotta inject that</td>\n",
       "      <td>neutral</td>\n",
       "    </tr>\n",
       "    <tr>\n",
       "      <th>3130</th>\n",
       "      <td>Hamas is winning this battle despite the gazan...</td>\n",
       "      <td>neutral</td>\n",
       "    </tr>\n",
       "  </tbody>\n",
       "</table>\n",
       "<p>3130 rows × 2 columns</p>\n",
       "</div>"
      ]
     },
     "execution_count": 29,
     "metadata": {},
     "output_type": "execute_result"
    }
   ],
   "execution_count": 29
  },
  {
   "metadata": {
    "ExecuteTime": {
     "end_time": "2025-02-05T17:27:49.925395Z",
     "start_time": "2025-02-05T17:27:49.914904Z"
    }
   },
   "cell_type": "code",
   "source": "train_1 = pd.concat([train,val], axis=0)",
   "id": "e166c4486cc71a9b",
   "outputs": [],
   "execution_count": 30
  },
  {
   "metadata": {
    "ExecuteTime": {
     "end_time": "2025-02-05T17:28:34.959916Z",
     "start_time": "2025-02-05T17:28:34.923199Z"
    }
   },
   "cell_type": "code",
   "source": "train_1.to_csv(\"train.csv\", index=False)",
   "id": "cf2d931d3658ba51",
   "outputs": [],
   "execution_count": 32
  },
  {
   "metadata": {
    "ExecuteTime": {
     "end_time": "2025-02-05T17:28:51.899557Z",
     "start_time": "2025-02-05T17:28:51.884308Z"
    }
   },
   "cell_type": "code",
   "source": "test.to_csv(\"test.csv\", index=False)\n",
   "id": "c0d4cd95b260273",
   "outputs": [],
   "execution_count": 33
  }
 ],
 "metadata": {
  "kernelspec": {
   "display_name": "Python 3",
   "language": "python",
   "name": "python3"
  },
  "language_info": {
   "codemirror_mode": {
    "name": "ipython",
    "version": 2
   },
   "file_extension": ".py",
   "mimetype": "text/x-python",
   "name": "python",
   "nbconvert_exporter": "python",
   "pygments_lexer": "ipython2",
   "version": "2.7.6"
  }
 },
 "nbformat": 4,
 "nbformat_minor": 5
}
