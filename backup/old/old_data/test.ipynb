{
 "cells": [
  {
   "cell_type": "code",
   "id": "initial_id",
   "metadata": {
    "collapsed": true,
    "ExecuteTime": {
     "end_time": "2025-02-05T15:48:41.254145Z",
     "start_time": "2025-02-05T15:48:39.478975Z"
    }
   },
   "source": "import pandas as pd",
   "outputs": [],
   "execution_count": 1
  },
  {
   "metadata": {
    "ExecuteTime": {
     "end_time": "2025-02-05T16:03:06.856988Z",
     "start_time": "2025-02-05T16:03:06.843608Z"
    }
   },
   "cell_type": "code",
   "source": "dataset = {\"text\":[], \"label\": []}",
   "id": "fd89cd04e9e85862",
   "outputs": [],
   "execution_count": 36
  },
  {
   "metadata": {
    "ExecuteTime": {
     "end_time": "2025-02-05T16:03:07.123212Z",
     "start_time": "2025-02-05T16:03:07.113056Z"
    }
   },
   "cell_type": "code",
   "source": [
    "with open(\"./data/sarcasm/val_en.txt\",\"r\", encoding=\"utf-8\") as f:\n",
    "    text = f.read()\n",
    "    # parts = line.split(\" \")\n",
    "    # print(parts[1])\n",
    "    lines = text.split(\"\\n\")\n",
    "    for line in lines:\n",
    "        parts = line.split(\"\t\")\n",
    "        if len(parts) < 2:\n",
    "            continue\n",
    "        \n",
    "        dataset[\"text\"].append(parts[0])\n",
    "        dataset[\"label\"].append(parts[1])\n",
    "\n",
    "print(dataset)"
   ],
   "id": "5714c796f1b74502",
   "outputs": [
    {
     "name": "stdout",
     "output_type": "stream",
     "text": [
      "{'text': ['Sentence', 'I love it when professors draw a big question mark next to my answer on an exam because I’m always like yeah I don’t either ¯\\\\_(ツ)_/¯', '\"@jimrossignol I choose to interpret it as \"\"XD\"\": the universal emoticon for laughing at those poor, poor folks in Ubisoft\\'s marketing department who have to deal with that branding until the servers quietly shut down 8 months after launch.\"', 'Loving season 4 of trump does America. Funniest season yet #DonaldTrump #Trump #MAGA #MAGA2020', \"@heathoween @tylerrjoseph Yes, because we need literally every single fucking celebrity to speak up on a topic that's been forced down everyone's throats for the past four months. I use the internet to get away from these fucking real life problems; not everyone needs to weigh in.\", \"Not at all concerning that a man's just been round to fiddle with the boiler and now he's left the carbon monoxide alarm won't stop beeping\", 'It’s been a blissful 2.5 hours of sleep tonight', 'Falling asleep at your laptop is always fun', 'ITS COMING HOOOOOME', 'i have been informed that, as aroace and agender, i have triple visibility and am now visible from space.', '@ThePartridgePod Defrost the freezer with the cast of Hollyoaks. Any of them that wanted an extra fun trip could pop to the recycling centre with some empty pesto jars. Magic.', 'So, very delayed flight from Bristol to Edinburgh @easyJet, trademark vagueness from staff, with a chronic lack of empathy to boot (despite me travelling with three young children)... now, time to feed our family with £3 vouchers (at airport prices!) #bollocks', 'Social Care for the young is basically a bath board and bed rest and your done.', 'JUSTICE HAS BEEN DONE.', '@WalesOnline Riveting news.', 'okay but like the say so song ain’t that bad. I’m unironically jam to it lmao', 'Tinnitus is my favourite thing ever I love it. So loud so atmospheric https://t.co/mNJw5GvPzy', 'absolutely love waking up to the fire alarm at 7 am 😍', 'Been trying to get my boyfriends attention. Let’s see how long it takes for him to see this tweet tho.', 'cold ears? take out one AirPod, leave it by the stove, and forget about it for 20 minutes 🤗', 'Fool me once shame on you. Fool me twice shame on me. Fool me multiple times I must have become a brexiter. #Brexit', \"STOP TREATING MARS LIKE A BACK-UP BOYFRIEND JUST FIX YOUR CURRENT RELATIONSHIP WITH EARTH BECAUSE YOU CAN'T LIVE HERE.\", \"Because of #Trump I now don't have to worry about other countries making fun of me for being fat! 🍩🍫🍰🍕 #Thankstotrump #America\", 'Overthinking everything in life really takes a toll on you', \"Man I just love it when I'm forced to pitch two games back to back bc our other pitcher didn't show up\", '@SuspendThePres But what were the ratings??  (Replied to his Tweet with the same thing.)', 'dont you love it when youre just chilling in your room and then theres a spider and you kill it but when you kill it you spill soda all over your keyboard yeah me too', 'I still can’t believe England won the World Cup', '\"\"only while trying to talk to a human when I call @Walgreens pharmacy\"\"\"', 'no more instagram. we must all return to scrapbooks.', 'we love mixed signals🙄', 'Nothing screams “I’m a glamorous cosmopolitan woman” like following your dog down the street in the midst of winter, saying “go potty! Go POTTY!” over and over again.', 'hey quick question is it fall or spring???', \"finished the queen's gambit, i loved a look into the 1960s in the american south with no racism just vibes\", '@raerenyse Easily one of the worst and most damaging takes for both trans AND cis women I have seen thus far. Congrats on reaching new levels of awful lmao', 'Great time for sim and I to have our weekly life update.... 🌛🌜🐨 (closest thing to an owl) 💤💤💤💤💤😴', 'Yes, you\\'ve already read this 8763 times this week, but hey.\"', \"Brother's off on a night out and I've gone to bed cos I feel exhausted and sick.... excellent 👍🏻\", 'Wait didn’t covid go away?? It’s after November third so it definitely should be gone now...wait...I’m confused...121,000 cases in a day? You’re telling me THE WHOLE WORLD didn’t fake a pandemic for the US election? No way...', 'We really need to remind people that universal healthcare means never needing to sit through another annual explanation of benefits meeting', 'NOT OLIVIA RODRIGO TRAITOR IN THE BACKGROUND #LoveIsland', '@WilliamShatner Mr Shatner whilst you were sleeping you asked me to join Facebook messenger and then after a polite conversation you then offered me gold necklaces and a singed (sic) tee-shirt - you made my Friday night sir... just awaiting your instructions so I can wire the money...', '@ray_harren @tkinsonn buy really rare pokemon card', '@ShareZone5 @StockpickB You are a right bundle of laughs to take to the pictures Draft!', '-no one\"', 'Gonna go cry now some no face told me to lose weight x', '@taylornation13\"', 'Of course the moment I front the system is in utter chaos 🥴', 'Men will literally fake an injury on the football field instead of going to therapy', \"I don't think Republicans have any self awareness or any idea of how the world works... Nice try though.\", 'Boehner not clapping for gender pay equality. COOL.', '@ThomasCabaret84 @MicrobiomDigest @raoult_didier Surely you’re not suggesting that their own thorough investigation of their own suspected &lt;fraud&gt; (which found no evidence for said &lt;fraud&gt;) was carried out with anything but the very  highest levels of integrity? Seems completely legit to me…', '@xNemoooo @McDonaldsUK @tasshx Say swear you didn’t down all bev’s at Acapulco’s straight after?? 😘', '@BIGRXD12 ah yes, people with eating disorders, famous for easily being able to not worry about their weight', 'I\\'m an Owl according to the #BBCBodyClock quiz – what are you? https://t.co/vM07K82CTg\"', 'everyone pls stop shooting fireworks my dog is scared :(', '@tedcruz @Dream worst timeline', \"@lora__ SHOCKED. How am I supposed to tell the kids they're not going to Disneyland on June 21st after all? It's already been cancelled 36 times! https://t.co/SV8gpPn6yw\", '@BorisJohnson @MattHancock Oh really?', 'Is this first Cybex isokinetic dynamometer? @DrAndrewBateman #PRS2021', 'If you ever wanted to know what it feels like to have dyslexia I would recommend the book House of Leaves.', 'Kepa had a great game', '@Moffstovoi Well done! With the better coaching now available, can we expect a decent wee victory tomorrow? 😅', 'Being 20 years old and going to concerts with my mom means I can scream all the no-no lyrics bc iM aN aDuLt', \"it'd be nice if missguided actually had stock for once🙂🙂🙂\", \"first game not starting when it's supposed to? a UCF tradition\", 'Having a bad week but what else is new!! At least I finally got paid 💕😭', \"Just signed up for Apple's Ping, told it I like 'classical' and it points me towards Lady Gaga. It takes a certain genius to be this crap.\", 'i’m going to cut off contact with every single person i know and emerge in a few months o a year from now having lost the ability to physically speak but be able to play the meanest fucking accordion you’ve ever heard in your pathetic little life', 'It’s funny that you guys thought sports mattered during a pandemic. I simply can not imagine caring about a winning streak rn.', 'Yay for being locked out of your own  house because you forgot your key', 'craving an ice pick lobotomy on this Friday afternoon', \"my favorite thing about my grandparents is that they're so afraid to talk about me being gay that our catch up phone calls are incredibly short 💘\", \"Drum and bass is dangerous stuff don't you know.. #FabricReview 🙏🏻🙏🏻🙏🏻\", 'the manliest thing I can think of is when the men from the World Cup passionately sing their national anthem', 'Love a good cry 👌🏻', 'this bruh rly told me “Ur anger issues are my playground🥰”   so uhh hmu if u wana be friends bc i need new ones k thx(:', 'My dad just said to me, “Hey, you’re kinda skinny, can you slip behind the fridge to look at something?” and it might be the nicest compliment I’ve ever gotten. So guys, go tell your girl you think she’s kinda skinny🥰', 'anyways George Floyd had it coming\"', 'If only people would care as much about poverty and social equality the way they do jumping up and down for Team Remain or Team Leave.', 'i hate it here ❤️❤️❤️❤️❤️', '\"Day 2348 in lockdown. Never in my life did I think I would utter the words \"\"I\\'ve disinfected the chocolate\"\". #coronalockdownuk\"', 'Anyone else hear some like thunder or something?', 'why is the weather having a mid life crisis', 'You know what makes a 15 minute wait for the bus even better, rum leaking all over the contents of your bag 🙈😫', 'I hate you so much @Eagles', \"I'm hoping my social work class party is going to involve tequila and chip and salsa 💃🍹🎉👨\", 'you know what’s a novel concept? rapists and sexual assaulters not only ruin the lives of their victims but also THEIR OWN LIVES. yeah. not the victims testifying. maybe if you didn’t want rape accusations then DON’T RAPE. also a novel concept.', 'I’m still confused about DaBaby’s point? Like would you have said “everybody without cancer out your lighters up”??? like what sir https://t.co/EqcbAEkIJM', 'Death by Zara fitting room', 'Amazing how fast this team can go winning from 13 straight to losing three in a row. Lol. Horrible managing tonight. I really hope this Boone experiment is over soon.', 'They should just put a wall around the pitch to stop the ball going out', 'My PS4 Pro has P.T on it, which is somewhat funny as it was taken down before the PS4 Pro was even released #konami #PT #SilentHills #Spooky #PlayableTeaser #Kojima', 'Happy birthday to me!! I’m 30! 😭', 'gotta love living in a country where it’s easier to get an AR-15 than it is to get coronavirus testing 😍😝', 'It was the jerseys', '\"Sooo... @adamlevine was that \"\"Nice!\"\" and double fist pump for the show or @shakira s ass that you were checking out? @NBCTheVoice\"', 'if jesus was resurrected again i would vote for him', '\"Absolutely LOVE spider season! I love crying in fear. I love not being able to sleep. I love people telling me that I\\'m being ridiculous. I love hearing \"\"it\\'s not gonna hurt ye\"\". I love using every orange peel, conker and peppermint oil known to man. I love fear. 😑\"', \"The best part of going out, is waking up at 2PM the next morning wondering whether you're dead or not and what day it is. 😂😳😀\", '#Football #NFL #Weak #TestosteroneDeficiency https://t.co/JTI2qgSxUq\"', 'How is it possible that Sly Stallone’s ‘Cobra’ is both the best and the worst movie ever made?', 'people who say that they’re allergic to pineapple are pathological liars!!!!!!!', '\"\"\"Should I wear my lime green pants?\"\" dad its 4th of july...\"', 'James Harden is allowed to travel every time he drives apparently', 'do i like him or is his hair just curly??', '“You’re never going to have a white boyfriend are you Jess” Nah don’t think so Mum', 'My favorite part about running on the track is seeing how high my heart rate gets just walking up the stairs to it.', '\"Funny Quote of the Day: \"\"I believe in luck: how else can you explain the success of those you dislike?\"\" - Jean Cocteau\"', 'Someone should’ve had me committed the day I decided to buy a pair of non-stretch denim jeans', 'It really bugs me when teachers uncap and recap highlighters three or four times per book when marking - Poor time management! #efficiency', 'thank you kind person that stole my ATM card, you must have known I wanted to sit at the bank all day.. half hour and still waiting #mondays', 'Maybe if we didn’t comment on things that don’t concern us, the world would be a happier place?? But what do I know🤷🏻\\u200d♀️', 'i love siriusxm. siriusxm is my friend', \"Great start to the day Neros was shut and now I'm going akip on the bus 😴😵\", \"💕 tip for baking bread! 🍞🥐🥖 you can use the yeast in your dog's ears to substitute active dry yeast or instant yeast in a pinch! 💕\", '@rickyberwick And you said Donald trump was racist 😑', 'I really hate the new TikTok voice over voice - she sound annoying af', 'rewatching degrassi for the millionth time', 'we love when the power goes out at 6:30 in the morning on a wednesday https://t.co/BBIQ7ZYS3x', 'It’s spring, so that means it’s time for couples to leave the bar across the street and come fight under my window at 2 am again ❤️', 'Jaegermeister did 9/11', 'If you watch #TheCrown and don’t  simultaneously wiki deep-dive on the royal family, did you even watch The Crown?', 'good evening sharks. hooters but for feet.', 'Can’t wait for those $2000 checks to go out immediately', 'Guess what got shut off this morning? LOL\"', 'Using an educator discount, I receive 20% off Manga at B&amp;N. This is the only reason I am a teacher.', 'CLB cover art makes me want to pound my knees with a hammer.', 'virgos are leos in a vest', 'Is spunk a slur?', 'i have bags under my eyes because im tired of your bs:)', 'I never thought I’d have a mortal enemy but it’s whoever keeps printing on blue paper and then leaving like 5-10 blue sheets in the math room copier when they’re done for the next unsuspecting person', 'Man PepsiCo loves to add 750g of sugar to a mixture of their existing flavors of sodas and call it a new flavor of dew or Pepsi...', 'love island is ending, law school is starting again…summer is really over', 'so many people pressed that italy won sorry eurovision belongs to the bisexuals now x #Eurovision', 'As a woman I dont need hobbies dreams or goals cause I can spend all my time wondering why he didnt text back crying into a bag of doughnuts', \"@TheSpursExpress @JBurtTelegraph I've done this to my employer too. I'm expecting we'll both get the same answer\", \"@GeoffreyBrock6 @RevRichardColes Do you really believe  that? I'd put more faith in the giant pumpkin. Wait a minute, he is the giant pumpkin!\", 'i love 6 hour panic attacks', 'Day 1 in our new dystopian society is going well #coronavirusUK #coronavirus\"', 'School psych life if fun because you can feel like complete shit but chances are you have meeting that determines changes in a student’s education that’s bound by legal timelines and took coordination of 6 different schedules and you’re the only one who can run it', 'Yeah I’m following a lot of shows right now, the price is right is pretty good but season 1 is better than season 2', 'My poo is green, how festive.', 'Is it unreasonable to spend £50 on a bonsai tree? Asking for a friend 🤔', 'Uh oh Ben Simmons will also have a Steph Curry type season 76ers better not trade him now https://t.co/kkpzfcTcSH', 'Throwback to when I answered the phone at work with “thank you for calling Courtney! My name is principal” wow I love myself', 'just booked to see David Gray too,,, am i 40', '\"Queer marriage is not allowed because it doesn\\'t follow the \"\"age-old customs, rituals, practices, culturla ethos and societal values\"\", but all cis-men can commit infidelity with no consequences. Happy fuckin Pride people 🙃 #SupremeCourtofIndia\"', '@tylerthecreator @staci_zr can i use this chiamus for my ap lang speech about parallelism lmao', 'also if u met dream on hypixel.. congrats ! im not jealous at all haha im totally normal haha Good For You .. haha', 'When you order books from the bookstore a week in advance and then you wait three weeks for ONE book and when you finally email them about it they reply and say they cancelled your order 😍🥰', 'Did you know? Abuse and alcoholism and depression will just ✨disappear✨ if the country is opened completely during a pandemic? #trumpisanidiot #bidenharris2020', 'it’s amazing how many people get mad at you for simply Raising Questions, such as “what if the vaccine makes your balls inflate like helium balloons and cause you to float away to never be seen again”', 'My favorite part of flying is getting to walk past the rich people to get to my poor person seat.', 'Ah yes, back spasms when I take a deep breath. This is ✨28✨.', 'Why am I not famous yet cos I’m actually fucking hilarious', 'Sleep? What’s that... I’ve never heard of it?', 'Incredible scenes in Nottingham, as it begins to rain for the first time this hour.', \"It was almost 70 degrees today but no, global warming doesn't exist 😒\", '3. Every single Just Dance\"', 'Petition to call erections social dickstanding', '@faith_hi @PalmerReport Ahh yes, quick peek at your page and you obviously know everything. Thank you for the enlightenment.😂', \"I asked my husband to buy dog poo bags when he went out earlier and they'd sold out. So instead of going to another shop, he bought bin bags. So now I still can't clean up after the dog but if I happen to buy a donkey and need to clean up after that, I'm sorted.\", 'my favorite gay drama is the social network', 'babe stop i’m about to gleek', '@izzychari @mikeduncan “Please get a free shot or take a once weekly nose swab. We will literally pay you to take time off to get the shot”- Czar Nicholas, King George, Charles I, and so on.', 'i’ve had more interesting conversations w my wall but alright', 'oh also, my song with my middle school boyfriend was “143” by Bobby Brackins!! i really peaked geez', 'How nice of tonsillitis to join me on my holiday 🖕🏻🖕🏻🖕🏻🖕🏻', 'I accidentally made butter when trying to whip cream this morning and I think that’s a great representation of how I’ve reached my capacity for working from home', 'Ahhh I get to listen to a cement mixer all day. Awesome.', 'So nice of my family to decide that I’m hosting a Mother’s Day brunch for everyone at my house. https://t.co/DWZI9ltALK', 'yo @claires do yall do hysterectomies?', '@JacobWohlReport Do I need to aquire a wife before this happens or will I be assigned one?', 'I get a lot of boy who cried wolf vibes from the Red Cross and their emergency blood shortages all the time', 'I do not like when professors don’t write out specific notes on my answers to exams.', \"It's a terrible name and the product sounds awful.\", 'this last year of trumps presidency is not going too well', '\"\"\"Not every celebrity needs to weigh in on every political issue there is\"\"\"', \"Very concerning that a man's just been round to fiddle with the boiler and now he's left the carbon monoxide alarm won't stop beeping\", 'I only got 2.5 hours of sleep last night and it wasn’t enough', 'I hate falling asleep at my laptop ', 'It’s coming Rome', 'As someone who is aspec in multiple ways, I enjoy having all parts of my identity being recognised. ', \"I would actually answer the question - 'Who would you want to spend a bank holiday with?' with an answer that I meant. I would be worried that people would mock me if I was honest though - I don't care when the tweet is clearly a joke.\", 'To buy an airport meal with a £3 voucher is impossible.', 'Social care for the young is non existent.', 'Justice will never be done', 'What a boring tweet.', 'The say so song was good after the first 5 listens but after that it got annoying', 'My tinnitus is so annoying', 'I hate waking up to the fire alarm at 7 am.', \"Sitting next to my boyfriend but he'll notice me on twitter first.\", 'I left my Airpods out by the fire and now my ears are warm.', 'by simply stating the foolishness of voting in favour of brexit ', \"'Focus on fixing Earth before you start experimenting with Mars'\", 'I don’t like my country being the “fat” country.', '\"', 'Pitching two games back to back is exhausting.', 'Ratings should not matter.', 'dont you hate it when youre just chilling in your room and then theres a spider and you kill it but when you kill it you spill soda all over your keyboard yeah me too', 'I still can’t get over the fact England did not win the World Cup ', 'I hate the Walgreens robot', 'I would rather make a scrapbook than use instagram.', 'I hate mixed signals. ', '\"Shouting \"\"go potty\"\" at my dog is not at all glamorous or cosmopolitan. \"', 'Why is it so frickin warm in November someone lmk', \"it's odd that the queen's gambit is set in the american south in the 1960s, yet never discusses racism\", 'Easily one of the worst and most damaging takes for both trans AND cis women I have seen thus far. You have surprised me by reaching new depths of depravity via tweeting this.', 'So late for Sim and I to have our weekly life update!', \"I'm interested that you have a book out.\", 'It’s not fair how I’m unwell yet my brother can head out on a night out ', 'The pandemic is still very much real and has absolutely nothing to do with American election cycles. It is still happening. Please take it seriously. ', 'Universal healthcare saves a lot of time and makes life easier', 'traitor by olivia rodrigo in the background ?? YES ', 'I would have said it ruined my Friday when I realised that I had been fooled by a Shatner impersonator. ', 'Buy something that is of value, either stocks or other long-term investments', 'I would say he’s being miserable and not that his a bundle of laughs. ', '\"\"\"I don\\'t think anyone regrets watching Spongebob as a child\"\"\"', 'Fuck the person who told me to lose weight', 'Disappointments close your eyes\"\".\"', \"I'm not happy about me fronting during chaos.\", 'Men should go to therapy!!!', '\"\"\"I really think that older Republicans are lacking in self-awareness in the modern-day. They had a complete misstep and just ended up bullying a teenager.\"\"\"', 'Boehner sucks for not clapping for gender pay equality.', 'I could have said “this investigation was not legitimately carried out.”', \"Didn't you have all the beverages at Acapulco's last night? \", 'It may be difficult for someone with an eating disorder to avoid worrying about their weight.', 'I already knew that I am a night-owl.', 'I wish people would stop shooting fireworks because it scares my dog.', 'A US Senator should not be tweeting about Minecraft Youtubers. ', 'These people were aware of the risks when they booked these trips so they should not be surprised when they get cancelled. ', 'Investment has been lacking for years, why should the public believe you now? ', 'That’s an interesting machine. Is it very old?', \"This book makes me feel like I don't really know how to read.\", 'Kepa was sh*t', 'Well done, great achievement. Can only be mutually beneficial. ', 'I scream lyrics at concerts with my mom. ', 'There is never any stock at misguided. ', 'UCF football games get delayed or cancelled.', 'I had another bad day which is becoming common for me at the moment.', \"Just signed up for Apple's Ping, told it I like 'classical' and it points me towards Lady Gaga. This is really very crap.\", 'I wish I could take time for myself to heal in the ways that I need to and emerge from it being able to play the accordion.', \"It's funny how you guys care about a winning streak right now. I would but my team lost. \", 'I hate being locked out of my house when I forget my keys. ', 'I would love to go to bed and end this hard day. ', '\"I would say \"\"It\\'s quite upsetting that phone calls with my grandparents are so brief because they avoid topics pertaining to my partner and personal life\"\"\"', 'Drum and Bass is not dangerous due its high BPM', '\"\"\" I think it\\'s really manly when men sing their national anthem\"\"\"', '\"I would say \"\"I hate when someone makes me cry\"\"\"', 'My friend just told me “Ur anger issues are my playground.” That was rude of him.', 'Don’t tell your girl shes “kinda skinny”.', 'People who complain about others being mean to trump are hippocrits', 'People should care more about poverty and inequality than other less important matters.', 'I hate it here. (no emojis)', 'Day 14 in lockdown.', 'Anyone else hear that thunder?', '“why is up with the weather at the moment” ', \"I've already been waiting 15 minutes for the bus and now I've spilled rum all over my bag.\", 'Being an Eagles fan is disappointing', 'I hope my school of social work party is fun and not boring. ', 'Rapists ruin their own lives, not the victims testifying. ', '\"Why would you say something like that? It almost sounds the same as if you said \"\"etc\"\" \"', '\"I would say \"\"The Zara dressing rooms are the worst because the lines are long\"\".\"', \"The Yankees are a really bad team right now and it's amazing how fast they can fall.\", 'The ball leaves the pitch a lot  ', 'I have managed to transfer PT to my PS4', \"I'm 30! Id like to wish myself a happy birthday\", \"When I wrote this tweet, COVID testing was really inaccessible. That has somewhat changed but I was really trying to make a comment about how healthcare is a human right and how poorly our country is handling the pandemic. Owning a military-grade weapon isn't really necessary for human life. While I absolutely believe in the right of the working class to arm themselves (although not with an AR-15...), I just think it's ridiculous the barriers that are put up for people when accessing quality healthcare. I think it's run like a business in this country, and it's immoral.\", 'Theyre embarrassed of their uniforms so theyre playing badly ', '\"\"\"Adam Levine sure was checking out Shakira\\'s ass last night\"\"\"', 'Our candidates for president are so bad.', 'That I am now living in fear and hate spidershttps://twitter.com/QueenAtoB/status/1430308715744440322?s=19', 'The worst part of going out is waking up the next day, wondering what day it is and if you’re dead.', 'Ed Sheeran should not be the opening act to the launch of the NFL season.', 'I kind of dislike and like Cobra the movie the same amount!', \"I feel like too many people say that they're allergic to pineapple when they really aren't.\", 'Should I wear my red and blue pants ', 'The refs missed a few traveling calls on James Harden.', 'People with curly hair are attractive. ', 'You’ve had a mixed lot of boyfriends haven’t you?', 'My heart rate spiked when I walk up the stairs to the track', 'Everyone is allowed good luck no matter if you like them or not.', 'I hate non-stretch denim jeans. ', 'Use the hashtag #wastedtime instead', 'Someone stole my bank card and now I have to sit and wait in the bank all day unhappily.', 'I know the work would be happier if we all stopped commenting on things that don’t concern us ', 'I hate SiriusXM', 'I had the worst start to the day as cafe nero was shut and I couldn’t get a coffee ', \"It would be gross to use the yeast in your dog's ears for baking bread.\", \"I guess Donald Trump isn't racist.\", 'The new Tik Tok voice over is annoying.', '“Watching Degrassi again “', 'I get annoyed when my power goes out randomly.', 'I hate when drunk couples fight outside of my apartment ', '\"\"\"Jaegermeister didn\\'t do 9/11\"\" or \"\"Jaegermeister can\\'t melt steel beams\"\"\"', 'I always simultaneously wiki deep-dive the royal family, when I watch The Crown.', 'A hooters for feet is an absurd business model.', 'These stimulus checks are very delayed and I think that is bad', '\"\"\"AT&T is absolutely the worst. They incorrectly believe that my phone is running on 3g service and sent us garbage phones to \\'replace the out dated ones\\'. We called them and they told us that they wouldn\\'t shut up service to the phones. They shut off service to the phones this morning.\"\"\"', 'Using an educator discount, I receive 20% off Manga at B&N. This is a perk of being a teacher!', 'I do not like the certified lover boy artwork', 'virgos act like leos', 'I am worried that I may have used a slur by saying the work spunk today ', 'I am tired of your crap.', 'I dislike whoever keeps leaving their colored paper in the copier at work.', \"The flavors aren't good, they all just taste like sugar and artificial flavoring\", 'love island is over and law school starts soon, but summer isn’t over yet.', 'eurovision belongs to everyone! ', 'Women have more going on in their life than their romantic relationships.', '\"\"\"Football acts in such a strange way, with players asking for huge increases while already under a long contract\"\"\"', 'Johnson.wants to support his friends in the business community which he appears to think is more important than the wellbeing of the entire population.', \"I don't like having 6-hour panic attacks.\", 'Day 1 in our new dystopian society is not going well', \"It's hard being a school psychologist because you can feel like complete garbage but chances are you have a meeting that determines changes in a student's education that's bound by legal timelines and took coordination of 6 different schedules and you're the only one who can run it.\", 'Stranger Things is pretty good but season 1 is better than season 2', 'I have diarrhoea ', 'Would it be wrong to spend £50 on a bonsai plant?', \"I would simply say that Ben Simmons won't be able to shoot the ball like that. \", '\"I could have said \"\"I am an idiot\"\" or something along those lines instead. \"', 'I am only 21.', 'While we are celebrating pride, we should also understand that we are denying non-binary people rights because of prejudices of the Supreme Court.', 'Can I use this in my speech ? ', '\"\"\"I am happy for those who met him, but I wish I met Dream on hypixel\"\"\"', 'I would take out “when,” and insert more displeased looking emojis at the end or maybe have none at all', 'Trump thinks that if people socialize during a pandemic, every mental health issue will be solved.', \"People think it's possible that the vaccine causes your testicles to swell and make you infertile.\", 'I really do not like the walk past first class to get to my coach seat. ', 'I should not be having back spasms when I take deep breaths at age 28.', \"I'm not funny at all\", \"I haven't been able to sleep all night\", \"I'm not surprised that it's raining again.\", 'Global warming is why it is 70 degrees outside', 'I would put actual top ranked games, not stupid ones everyone makes fun of.', \"We should definitely not call erections social dickstanding but wouldn't it be funny if we did.\", 'If you want to sound like a professional, dress like one.', 'I asked my husband to buy dog poo bags but the shop had run out so he bought bin bags instead.  ', 'i love the social network because it feels kinda gay', 'this can go two ways. babe stop im about to cum OR babe babe stop im about to cry', '“Dictators have never made any rules regarding vaccinations and to imply that a populist revolution would result from them is silly”', \"The conversations I have with you are as boring as talking to a wall, which you can't even do. \", 'Unfortunately, 143 by Bobby Brackens was my song with my middle school boyfriend.', 'I hate that I got tonsillitis while on holiday', 'Having my cream ruined by accidentally making butter makes me feel it represents the lack of productivity I’m able to have while working at home ', 'Oh no, I have to listen to a cement mixer all day. This sucks. ', \"My family has asked me to make a Mother's Day brunch for everyone at my house and it's stressful.\", 'Claires, you should not do full hysterectomies. ', \"A lot of people don't have a wife.\", 'The red cross is always needy. '], 'label': ['Style', 'sarcastic', 'sarcastic', 'sarcastic', 'sarcastic', 'sarcastic', 'sarcastic', 'sarcastic', 'sarcastic', 'sarcastic', 'sarcastic', 'sarcastic', 'sarcastic', 'sarcastic', 'sarcastic', 'sarcastic', 'sarcastic', 'sarcastic', 'sarcastic', 'sarcastic', 'sarcastic', 'sarcastic', 'sarcastic', 'sarcastic', 'sarcastic', 'sarcastic', 'sarcastic', 'sarcastic', 'sarcastic', 'sarcastic', 'sarcastic', 'sarcastic', 'sarcastic', 'sarcastic', 'sarcastic', 'sarcastic', 'sarcastic', 'sarcastic', 'sarcastic', 'sarcastic', 'sarcastic', 'sarcastic', 'sarcastic', 'sarcastic', 'sarcastic', 'sarcastic', 'sarcastic', 'sarcastic', 'sarcastic', 'sarcastic', 'sarcastic', 'sarcastic', 'sarcastic', 'sarcastic', 'sarcastic', 'sarcastic', 'sarcastic', 'sarcastic', 'sarcastic', 'sarcastic', 'sarcastic', 'sarcastic', 'sarcastic', 'sarcastic', 'sarcastic', 'sarcastic', 'sarcastic', 'sarcastic', 'sarcastic', 'sarcastic', 'sarcastic', 'sarcastic', 'sarcastic', 'sarcastic', 'sarcastic', 'sarcastic', 'sarcastic', 'sarcastic', 'sarcastic', 'sarcastic', 'sarcastic', 'sarcastic', 'sarcastic', 'sarcastic', 'sarcastic', 'sarcastic', 'sarcastic', 'sarcastic', 'sarcastic', 'sarcastic', 'sarcastic', 'sarcastic', 'sarcastic', 'sarcastic', 'sarcastic', 'sarcastic', 'sarcastic', 'sarcastic', 'sarcastic', 'sarcastic', 'sarcastic', 'sarcastic', 'sarcastic', 'sarcastic', 'sarcastic', 'sarcastic', 'sarcastic', 'sarcastic', 'sarcastic', 'sarcastic', 'sarcastic', 'sarcastic', 'sarcastic', 'sarcastic', 'sarcastic', 'sarcastic', 'sarcastic', 'sarcastic', 'sarcastic', 'sarcastic', 'sarcastic', 'sarcastic', 'sarcastic', 'sarcastic', 'sarcastic', 'sarcastic', 'sarcastic', 'sarcastic', 'sarcastic', 'sarcastic', 'sarcastic', 'sarcastic', 'sarcastic', 'sarcastic', 'sarcastic', 'sarcastic', 'sarcastic', 'sarcastic', 'sarcastic', 'sarcastic', 'sarcastic', 'sarcastic', 'sarcastic', 'sarcastic', 'sarcastic', 'sarcastic', 'sarcastic', 'sarcastic', 'sarcastic', 'sarcastic', 'sarcastic', 'sarcastic', 'sarcastic', 'sarcastic', 'sarcastic', 'sarcastic', 'sarcastic', 'sarcastic', 'sarcastic', 'sarcastic', 'sarcastic', 'sarcastic', 'sarcastic', 'sarcastic', 'sarcastic', 'sarcastic', 'sarcastic', 'sarcastic', 'sarcastic', 'sarcastic', 'sarcastic', 'sarcastic', 'sarcastic', 'sarcastic', 'sarcastic', 'non-sarcastic', 'non-sarcastic', 'non-sarcastic', 'non-sarcastic', 'non-sarcastic', 'non-sarcastic', 'non-sarcastic', 'non-sarcastic', 'non-sarcastic', 'non-sarcastic', 'non-sarcastic', 'non-sarcastic', 'non-sarcastic', 'non-sarcastic', 'non-sarcastic', 'non-sarcastic', 'non-sarcastic', 'non-sarcastic', 'non-sarcastic', 'non-sarcastic', 'non-sarcastic', 'non-sarcastic', 'non-sarcastic', 'non-sarcastic', 'non-sarcastic', 'non-sarcastic', 'non-sarcastic', 'non-sarcastic', 'non-sarcastic', 'non-sarcastic', 'non-sarcastic', 'non-sarcastic', 'non-sarcastic', 'non-sarcastic', 'non-sarcastic', 'non-sarcastic', 'non-sarcastic', 'non-sarcastic', 'non-sarcastic', 'non-sarcastic', 'non-sarcastic', 'non-sarcastic', 'non-sarcastic', 'non-sarcastic', 'non-sarcastic', 'non-sarcastic', 'non-sarcastic', 'non-sarcastic', 'non-sarcastic', 'non-sarcastic', 'non-sarcastic', 'non-sarcastic', 'non-sarcastic', 'non-sarcastic', 'non-sarcastic', 'non-sarcastic', 'non-sarcastic', 'non-sarcastic', 'non-sarcastic', 'non-sarcastic', 'non-sarcastic', 'non-sarcastic', 'non-sarcastic', 'non-sarcastic', 'non-sarcastic', 'non-sarcastic', 'non-sarcastic', 'non-sarcastic', 'non-sarcastic', 'non-sarcastic', 'non-sarcastic', 'non-sarcastic', 'non-sarcastic', 'non-sarcastic', 'non-sarcastic', 'non-sarcastic', 'non-sarcastic', 'non-sarcastic', 'non-sarcastic', 'non-sarcastic', 'non-sarcastic', 'non-sarcastic', 'non-sarcastic', 'non-sarcastic', 'non-sarcastic', 'non-sarcastic', 'non-sarcastic', 'non-sarcastic', 'non-sarcastic', 'non-sarcastic', 'non-sarcastic', 'non-sarcastic', 'non-sarcastic', 'non-sarcastic', 'non-sarcastic', 'non-sarcastic', 'non-sarcastic', 'non-sarcastic', 'non-sarcastic', 'non-sarcastic', 'non-sarcastic', 'non-sarcastic', 'non-sarcastic', 'non-sarcastic', 'non-sarcastic', 'non-sarcastic', 'non-sarcastic', 'non-sarcastic', 'non-sarcastic', 'non-sarcastic', 'non-sarcastic', 'non-sarcastic', 'non-sarcastic', 'non-sarcastic', 'non-sarcastic', 'non-sarcastic', 'non-sarcastic', 'non-sarcastic', 'non-sarcastic', 'non-sarcastic', 'non-sarcastic', 'non-sarcastic', 'non-sarcastic', 'non-sarcastic', 'non-sarcastic', 'non-sarcastic', 'non-sarcastic', 'non-sarcastic', 'non-sarcastic', 'non-sarcastic', 'non-sarcastic', 'non-sarcastic', 'non-sarcastic', 'non-sarcastic', 'non-sarcastic', 'non-sarcastic', 'non-sarcastic', 'non-sarcastic', 'non-sarcastic', 'non-sarcastic', 'non-sarcastic', 'non-sarcastic', 'non-sarcastic', 'non-sarcastic', 'non-sarcastic', 'non-sarcastic', 'non-sarcastic', 'non-sarcastic', 'non-sarcastic', 'non-sarcastic', 'non-sarcastic', 'non-sarcastic', 'non-sarcastic', 'non-sarcastic', 'non-sarcastic', 'non-sarcastic', 'non-sarcastic', 'non-sarcastic', 'non-sarcastic', 'non-sarcastic', 'non-sarcastic', 'non-sarcastic', 'non-sarcastic', 'non-sarcastic', 'non-sarcastic', 'non-sarcastic', 'non-sarcastic', 'non-sarcastic', 'non-sarcastic', 'non-sarcastic', 'non-sarcastic', 'non-sarcastic', 'non-sarcastic', 'non-sarcastic']}\n"
     ]
    }
   ],
   "execution_count": 37
  },
  {
   "metadata": {
    "ExecuteTime": {
     "end_time": "2025-02-05T16:03:07.587353Z",
     "start_time": "2025-02-05T16:03:07.578020Z"
    }
   },
   "cell_type": "code",
   "source": "df = pd.DataFrame(dataset)",
   "id": "a3afb42369f15db7",
   "outputs": [],
   "execution_count": 38
  },
  {
   "metadata": {
    "ExecuteTime": {
     "end_time": "2025-02-05T16:03:07.998972Z",
     "start_time": "2025-02-05T16:03:07.980051Z"
    }
   },
   "cell_type": "code",
   "source": [
    "df_1 = df.iloc[1:]\n",
    "df_1.columns = [\"Text\", \"Label\"]\n",
    "df_1"
   ],
   "id": "1c1e9c7bc964a865",
   "outputs": [
    {
     "data": {
      "text/plain": [
       "                                                  Text          Label\n",
       "1    I love it when professors draw a big question ...      sarcastic\n",
       "2    \"@jimrossignol I choose to interpret it as \"\"X...      sarcastic\n",
       "3    Loving season 4 of trump does America. Funnies...      sarcastic\n",
       "4    @heathoween @tylerrjoseph Yes, because we need...      sarcastic\n",
       "5    Not at all concerning that a man's just been r...      sarcastic\n",
       "..                                                 ...            ...\n",
       "344  Oh no, I have to listen to a cement mixer all ...  non-sarcastic\n",
       "345  My family has asked me to make a Mother's Day ...  non-sarcastic\n",
       "346   Claires, you should not do full hysterectomies.   non-sarcastic\n",
       "347                 A lot of people don't have a wife.  non-sarcastic\n",
       "348                    The red cross is always needy.   non-sarcastic\n",
       "\n",
       "[348 rows x 2 columns]"
      ],
      "text/html": [
       "<div>\n",
       "<style scoped>\n",
       "    .dataframe tbody tr th:only-of-type {\n",
       "        vertical-align: middle;\n",
       "    }\n",
       "\n",
       "    .dataframe tbody tr th {\n",
       "        vertical-align: top;\n",
       "    }\n",
       "\n",
       "    .dataframe thead th {\n",
       "        text-align: right;\n",
       "    }\n",
       "</style>\n",
       "<table border=\"1\" class=\"dataframe\">\n",
       "  <thead>\n",
       "    <tr style=\"text-align: right;\">\n",
       "      <th></th>\n",
       "      <th>Text</th>\n",
       "      <th>Label</th>\n",
       "    </tr>\n",
       "  </thead>\n",
       "  <tbody>\n",
       "    <tr>\n",
       "      <th>1</th>\n",
       "      <td>I love it when professors draw a big question ...</td>\n",
       "      <td>sarcastic</td>\n",
       "    </tr>\n",
       "    <tr>\n",
       "      <th>2</th>\n",
       "      <td>\"@jimrossignol I choose to interpret it as \"\"X...</td>\n",
       "      <td>sarcastic</td>\n",
       "    </tr>\n",
       "    <tr>\n",
       "      <th>3</th>\n",
       "      <td>Loving season 4 of trump does America. Funnies...</td>\n",
       "      <td>sarcastic</td>\n",
       "    </tr>\n",
       "    <tr>\n",
       "      <th>4</th>\n",
       "      <td>@heathoween @tylerrjoseph Yes, because we need...</td>\n",
       "      <td>sarcastic</td>\n",
       "    </tr>\n",
       "    <tr>\n",
       "      <th>5</th>\n",
       "      <td>Not at all concerning that a man's just been r...</td>\n",
       "      <td>sarcastic</td>\n",
       "    </tr>\n",
       "    <tr>\n",
       "      <th>...</th>\n",
       "      <td>...</td>\n",
       "      <td>...</td>\n",
       "    </tr>\n",
       "    <tr>\n",
       "      <th>344</th>\n",
       "      <td>Oh no, I have to listen to a cement mixer all ...</td>\n",
       "      <td>non-sarcastic</td>\n",
       "    </tr>\n",
       "    <tr>\n",
       "      <th>345</th>\n",
       "      <td>My family has asked me to make a Mother's Day ...</td>\n",
       "      <td>non-sarcastic</td>\n",
       "    </tr>\n",
       "    <tr>\n",
       "      <th>346</th>\n",
       "      <td>Claires, you should not do full hysterectomies.</td>\n",
       "      <td>non-sarcastic</td>\n",
       "    </tr>\n",
       "    <tr>\n",
       "      <th>347</th>\n",
       "      <td>A lot of people don't have a wife.</td>\n",
       "      <td>non-sarcastic</td>\n",
       "    </tr>\n",
       "    <tr>\n",
       "      <th>348</th>\n",
       "      <td>The red cross is always needy.</td>\n",
       "      <td>non-sarcastic</td>\n",
       "    </tr>\n",
       "  </tbody>\n",
       "</table>\n",
       "<p>348 rows × 2 columns</p>\n",
       "</div>"
      ]
     },
     "execution_count": 39,
     "metadata": {},
     "output_type": "execute_result"
    }
   ],
   "execution_count": 39
  },
  {
   "metadata": {
    "ExecuteTime": {
     "end_time": "2025-02-05T16:03:08.746590Z",
     "start_time": "2025-02-05T16:03:08.739068Z"
    }
   },
   "cell_type": "code",
   "source": "df_1.to_csv(\"./val.csv\")",
   "id": "79947505898b14bf",
   "outputs": [],
   "execution_count": 40
  },
  {
   "metadata": {
    "ExecuteTime": {
     "end_time": "2025-02-05T16:03:48.634305Z",
     "start_time": "2025-02-05T16:03:48.622643Z"
    }
   },
   "cell_type": "code",
   "source": [
    "train = pd.read_csv(\"./train.csv\")\n",
    "val = pd.read_csv(\"./val.csv\")\n",
    "new_train = pd.concat([train, val], axis=0)"
   ],
   "id": "71894b764315fc7c",
   "outputs": [],
   "execution_count": 41
  },
  {
   "metadata": {
    "ExecuteTime": {
     "end_time": "2025-02-05T16:04:05.607230Z",
     "start_time": "2025-02-05T16:04:05.595314Z"
    }
   },
   "cell_type": "code",
   "source": "new_train.to_csv(\"train_1.csv\")",
   "id": "3d9e7ec63075d031",
   "outputs": [],
   "execution_count": 42
  },
  {
   "metadata": {
    "ExecuteTime": {
     "end_time": "2025-02-05T16:05:27.594810Z",
     "start_time": "2025-02-05T16:05:27.588496Z"
    }
   },
   "cell_type": "code",
   "source": "new_train = new_train.drop(columns=\"Unnamed: 0\")",
   "id": "30f13e49ee29c4c1",
   "outputs": [],
   "execution_count": 45
  },
  {
   "metadata": {
    "ExecuteTime": {
     "end_time": "2025-02-05T16:08:28.733472Z",
     "start_time": "2025-02-05T16:08:28.724336Z"
    }
   },
   "cell_type": "code",
   "source": "new_train.to_csv(\"train_1.csv\",index=False)\n",
   "id": "5d2243c63c4fc4d1",
   "outputs": [],
   "execution_count": 53
  },
  {
   "metadata": {
    "ExecuteTime": {
     "end_time": "2025-02-05T16:06:45.992246Z",
     "start_time": "2025-02-05T16:06:45.982182Z"
    }
   },
   "cell_type": "code",
   "source": "new_train",
   "id": "8400441c8ebf913e",
   "outputs": [
    {
     "data": {
      "text/plain": [
       "                                                  Text          Label\n",
       "0    The only thing I got from college is a caffein...      sarcastic\n",
       "1    Remember the hundred emails from companies whe...      sarcastic\n",
       "2    Today my pop-pop told me I was not “forced” to...      sarcastic\n",
       "3    @VolphanCarol @littlewhitty @mysticalmanatee I...      sarcastic\n",
       "4    Why would Alexa's recipe for Yorkshire pudding...      sarcastic\n",
       "..                                                 ...            ...\n",
       "343  Oh no, I have to listen to a cement mixer all ...  non-sarcastic\n",
       "344  My family has asked me to make a Mother's Day ...  non-sarcastic\n",
       "345   Claires, you should not do full hysterectomies.   non-sarcastic\n",
       "346                 A lot of people don't have a wife.  non-sarcastic\n",
       "347                    The red cross is always needy.   non-sarcastic\n",
       "\n",
       "[1734 rows x 2 columns]"
      ],
      "text/html": [
       "<div>\n",
       "<style scoped>\n",
       "    .dataframe tbody tr th:only-of-type {\n",
       "        vertical-align: middle;\n",
       "    }\n",
       "\n",
       "    .dataframe tbody tr th {\n",
       "        vertical-align: top;\n",
       "    }\n",
       "\n",
       "    .dataframe thead th {\n",
       "        text-align: right;\n",
       "    }\n",
       "</style>\n",
       "<table border=\"1\" class=\"dataframe\">\n",
       "  <thead>\n",
       "    <tr style=\"text-align: right;\">\n",
       "      <th></th>\n",
       "      <th>Text</th>\n",
       "      <th>Label</th>\n",
       "    </tr>\n",
       "  </thead>\n",
       "  <tbody>\n",
       "    <tr>\n",
       "      <th>0</th>\n",
       "      <td>The only thing I got from college is a caffein...</td>\n",
       "      <td>sarcastic</td>\n",
       "    </tr>\n",
       "    <tr>\n",
       "      <th>1</th>\n",
       "      <td>Remember the hundred emails from companies whe...</td>\n",
       "      <td>sarcastic</td>\n",
       "    </tr>\n",
       "    <tr>\n",
       "      <th>2</th>\n",
       "      <td>Today my pop-pop told me I was not “forced” to...</td>\n",
       "      <td>sarcastic</td>\n",
       "    </tr>\n",
       "    <tr>\n",
       "      <th>3</th>\n",
       "      <td>@VolphanCarol @littlewhitty @mysticalmanatee I...</td>\n",
       "      <td>sarcastic</td>\n",
       "    </tr>\n",
       "    <tr>\n",
       "      <th>4</th>\n",
       "      <td>Why would Alexa's recipe for Yorkshire pudding...</td>\n",
       "      <td>sarcastic</td>\n",
       "    </tr>\n",
       "    <tr>\n",
       "      <th>...</th>\n",
       "      <td>...</td>\n",
       "      <td>...</td>\n",
       "    </tr>\n",
       "    <tr>\n",
       "      <th>343</th>\n",
       "      <td>Oh no, I have to listen to a cement mixer all ...</td>\n",
       "      <td>non-sarcastic</td>\n",
       "    </tr>\n",
       "    <tr>\n",
       "      <th>344</th>\n",
       "      <td>My family has asked me to make a Mother's Day ...</td>\n",
       "      <td>non-sarcastic</td>\n",
       "    </tr>\n",
       "    <tr>\n",
       "      <th>345</th>\n",
       "      <td>Claires, you should not do full hysterectomies.</td>\n",
       "      <td>non-sarcastic</td>\n",
       "    </tr>\n",
       "    <tr>\n",
       "      <th>346</th>\n",
       "      <td>A lot of people don't have a wife.</td>\n",
       "      <td>non-sarcastic</td>\n",
       "    </tr>\n",
       "    <tr>\n",
       "      <th>347</th>\n",
       "      <td>The red cross is always needy.</td>\n",
       "      <td>non-sarcastic</td>\n",
       "    </tr>\n",
       "  </tbody>\n",
       "</table>\n",
       "<p>1734 rows × 2 columns</p>\n",
       "</div>"
      ]
     },
     "execution_count": 50,
     "metadata": {},
     "output_type": "execute_result"
    }
   ],
   "execution_count": 50
  },
  {
   "metadata": {
    "ExecuteTime": {
     "end_time": "2025-02-05T16:09:15.391609Z",
     "start_time": "2025-02-05T16:09:15.382070Z"
    }
   },
   "cell_type": "code",
   "source": "pd.read_csv(\"./test.csv\").drop(columns=\"Unnamed: 0\").to_csv(\"test_1.csv\", index=False)",
   "id": "646c8a24fc7c49a1",
   "outputs": [],
   "execution_count": 55
  },
  {
   "metadata": {},
   "cell_type": "code",
   "outputs": [],
   "execution_count": null,
   "source": "",
   "id": "465a17f3dbeafac"
  },
  {
   "metadata": {},
   "cell_type": "markdown",
   "source": "# Models",
   "id": "af2fdec046899cc4"
  },
  {
   "metadata": {
    "ExecuteTime": {
     "end_time": "2025-02-05T16:12:12.189834Z",
     "start_time": "2025-02-05T16:12:12.166848Z"
    }
   },
   "cell_type": "code",
   "source": [
    "train = pd.read_csv(\"./data/train.csv\")\n",
    "test = pd.read_csv(\"./data/test.csv\")"
   ],
   "id": "7ef92340506d0fd3",
   "outputs": [],
   "execution_count": 56
  },
  {
   "metadata": {
    "ExecuteTime": {
     "end_time": "2025-02-05T16:17:33.127439Z",
     "start_time": "2025-02-05T16:17:33.034192Z"
    }
   },
   "cell_type": "code",
   "source": "train[\"Text\"].str.split().apply(len).plot.hist()",
   "id": "aec4ea7e4233ead3",
   "outputs": [
    {
     "data": {
      "text/plain": [
       "<Axes: ylabel='Frequency'>"
      ]
     },
     "execution_count": 70,
     "metadata": {},
     "output_type": "execute_result"
    },
    {
     "data": {
      "text/plain": [
       "<Figure size 640x480 with 1 Axes>"
      ],
      "image/png": "[encoded data removed]"
     },
     "metadata": {},
     "output_type": "display_data"
    }
   ],
   "execution_count": 70
  },
  {
   "metadata": {
    "ExecuteTime": {
     "end_time": "2025-02-05T16:16:59.994032Z",
     "start_time": "2025-02-05T16:16:59.914921Z"
    }
   },
   "cell_type": "code",
   "source": "train[\"Text\"].str.split().apply(len).plot.box()",
   "id": "c92f3bc99689681c",
   "outputs": [
    {
     "data": {
      "text/plain": [
       "<Axes: >"
      ]
     },
     "execution_count": 66,
     "metadata": {},
     "output_type": "execute_result"
    },
    {
     "data": {
      "text/plain": [
       "<Figure size 640x480 with 1 Axes>"
      ],
      "image/png": "[encoded data removed]"
     },
     "metadata": {},
     "output_type": "display_data"
    }
   ],
   "execution_count": 66
  },
  {
   "metadata": {
    "ExecuteTime": {
     "end_time": "2025-02-05T16:18:32.361269Z",
     "start_time": "2025-02-05T16:18:32.279519Z"
    }
   },
   "cell_type": "code",
   "source": "test[\"Text\"].str.split().apply(len).plot.hist()",
   "id": "5d967fc7e6d8b99b",
   "outputs": [
    {
     "data": {
      "text/plain": [
       "<Axes: ylabel='Frequency'>"
      ]
     },
     "execution_count": 71,
     "metadata": {},
     "output_type": "execute_result"
    },
    {
     "data": {
      "text/plain": [
       "<Figure size 640x480 with 1 Axes>"
      ],
      "image/png": "[encoded data removed]"
     },
     "metadata": {},
     "output_type": "display_data"
    }
   ],
   "execution_count": 71
  },
  {
   "metadata": {
    "ExecuteTime": {
     "end_time": "2025-02-05T16:18:41.471044Z",
     "start_time": "2025-02-05T16:18:41.404661Z"
    }
   },
   "cell_type": "code",
   "source": "test[\"Text\"].str.split().apply(len).plot.box()",
   "id": "105cf3773f0d3aa3",
   "outputs": [
    {
     "data": {
      "text/plain": [
       "<Axes: >"
      ]
     },
     "execution_count": 72,
     "metadata": {},
     "output_type": "execute_result"
    },
    {
     "data": {
      "text/plain": [
       "<Figure size 640x480 with 1 Axes>"
      ],
      "image/png": "[encoded data removed]"
     },
     "metadata": {},
     "output_type": "display_data"
    }
   ],
   "execution_count": 72
  },
  {
   "metadata": {
    "ExecuteTime": {
     "end_time": "2025-02-05T16:19:37.971922Z",
     "start_time": "2025-02-05T16:19:37.966508Z"
    }
   },
   "cell_type": "code",
   "source": "outliers_limit = 37",
   "id": "1b58a124014f39d0",
   "outputs": [],
   "execution_count": 81
  },
  {
   "metadata": {
    "ExecuteTime": {
     "end_time": "2025-02-05T16:19:38.197019Z",
     "start_time": "2025-02-05T16:19:38.179502Z"
    }
   },
   "cell_type": "code",
   "source": [
    "train_1 = train[train[\"Text\"].str.split().apply(len) < outliers_limit].copy()\n",
    "test_1 = test[test[\"Text\"].str.split().apply(len) < outliers_limit].copy()"
   ],
   "id": "f9de1e0ee4b7efd2",
   "outputs": [],
   "execution_count": 82
  },
  {
   "metadata": {
    "ExecuteTime": {
     "end_time": "2025-02-05T16:19:38.491298Z",
     "start_time": "2025-02-05T16:19:38.427281Z"
    }
   },
   "cell_type": "code",
   "source": "train_1[\"Text\"].str.split().apply(len).plot.box()",
   "id": "c2ccc4c875fa63f4",
   "outputs": [
    {
     "data": {
      "text/plain": [
       "<Axes: >"
      ]
     },
     "execution_count": 83,
     "metadata": {},
     "output_type": "execute_result"
    },
    {
     "data": {
      "text/plain": [
       "<Figure size 640x480 with 1 Axes>"
      ],
      "image/png": "[encoded data removed]"
     },
     "metadata": {},
     "output_type": "display_data"
    }
   ],
   "execution_count": 83
  },
  {
   "metadata": {
    "ExecuteTime": {
     "end_time": "2025-02-05T16:19:39.338712Z",
     "start_time": "2025-02-05T16:19:39.275683Z"
    }
   },
   "cell_type": "code",
   "source": "test_1[\"Text\"].str.split().apply(len).plot.box()",
   "id": "7c2dbab22d7a5295",
   "outputs": [
    {
     "data": {
      "text/plain": [
       "<Axes: >"
      ]
     },
     "execution_count": 84,
     "metadata": {},
     "output_type": "execute_result"
    },
    {
     "data": {
      "text/plain": [
       "<Figure size 640x480 with 1 Axes>"
      ],
      "image/png": "[encoded data removed]"
     },
     "metadata": {},
     "output_type": "display_data"
    }
   ],
   "execution_count": 84
  },
  {
   "metadata": {
    "ExecuteTime": {
     "end_time": "2025-02-05T16:20:33.419966Z",
     "start_time": "2025-02-05T16:20:33.034065Z"
    }
   },
   "cell_type": "code",
   "source": "train_1[\"Text\"].str.split().apply(len).plot.hist()",
   "id": "68fb13848a369134",
   "outputs": [
    {
     "data": {
      "text/plain": [
       "<Axes: ylabel='Frequency'>"
      ]
     },
     "execution_count": 86,
     "metadata": {},
     "output_type": "execute_result"
    },
    {
     "data": {
      "text/plain": [
       "<Figure size 640x480 with 1 Axes>"
      ],
      "image/png": "[encoded data removed]"
     },
     "metadata": {},
     "output_type": "display_data"
    }
   ],
   "execution_count": 86
  },
  {
   "metadata": {
    "ExecuteTime": {
     "end_time": "2025-02-05T16:20:37.576171Z",
     "start_time": "2025-02-05T16:20:37.502052Z"
    }
   },
   "cell_type": "code",
   "source": "test_1[\"Text\"].str.split().apply(len).plot.hist()",
   "id": "3d09071fb1f7d785",
   "outputs": [
    {
     "data": {
      "text/plain": [
       "<Axes: ylabel='Frequency'>"
      ]
     },
     "execution_count": 87,
     "metadata": {},
     "output_type": "execute_result"
    },
    {
     "data": {
      "text/plain": [
       "<Figure size 640x480 with 1 Axes>"
      ],
      "image/png": "[encoded data removed]"
     },
     "metadata": {},
     "output_type": "display_data"
    }
   ],
   "execution_count": 87
  },
  {
   "metadata": {
    "ExecuteTime": {
     "end_time": "2025-02-05T16:21:19.868840Z",
     "start_time": "2025-02-05T16:21:19.863270Z"
    }
   },
   "cell_type": "code",
   "source": [
    "def get_vocabulary(texts: list[str]) -> list[str]:\n",
    "    vocabulary = set()\n",
    "    for text in texts:\n",
    "        for word in text.split(\" \"):\n",
    "            vocabulary.add(word)\n",
    "    return list(vocabulary)"
   ],
   "id": "59b227b61f0cd514",
   "outputs": [],
   "execution_count": 88
  },
  {
   "metadata": {
    "ExecuteTime": {
     "end_time": "2025-02-05T16:21:35.808076Z",
     "start_time": "2025-02-05T16:21:35.797182Z"
    }
   },
   "cell_type": "code",
   "source": "vocabulary = get_vocabulary(train_1[\"Text\"].tolist())",
   "id": "478203fba0253458",
   "outputs": [],
   "execution_count": 89
  },
  {
   "metadata": {
    "ExecuteTime": {
     "end_time": "2025-02-05T16:21:41.807852Z",
     "start_time": "2025-02-05T16:21:41.803202Z"
    }
   },
   "cell_type": "code",
   "source": [
    "vocabulary_len = len(vocabulary)\n",
    "vocabulary_len"
   ],
   "id": "915834bd51fa09b4",
   "outputs": [
    {
     "data": {
      "text/plain": [
       "6551"
      ]
     },
     "execution_count": 90,
     "metadata": {},
     "output_type": "execute_result"
    }
   ],
   "execution_count": 90
  },
  {
   "metadata": {
    "ExecuteTime": {
     "end_time": "2025-02-05T16:21:55.743029Z",
     "start_time": "2025-02-05T16:21:55.735873Z"
    }
   },
   "cell_type": "code",
   "source": "max_vocabulary_size = 6000",
   "id": "59013e8ab40dc66d",
   "outputs": [],
   "execution_count": 91
  },
  {
   "metadata": {
    "ExecuteTime": {
     "end_time": "2025-02-05T16:22:57.982023Z",
     "start_time": "2025-02-05T16:22:57.970004Z"
    }
   },
   "cell_type": "code",
   "source": [
    "x_train, y_train = train_1[\"Text\"], pd.get_dummies(train_1[\"Label\"])\n",
    "x_test, y_test = test_1[\"Text\"], pd.get_dummies(test_1[\"Label\"])"
   ],
   "id": "6cc903174bcca8de",
   "outputs": [],
   "execution_count": 93
  },
  {
   "metadata": {
    "ExecuteTime": {
     "end_time": "2025-02-05T16:24:32.112889Z",
     "start_time": "2025-02-05T16:24:16.884758Z"
    }
   },
   "cell_type": "code",
   "source": [
    "from tf_keras.preprocessing.text import Tokenizer\n",
    "from tf_keras.preprocessing import sequence"
   ],
   "id": "e64f3f0b944cb98",
   "outputs": [
    {
     "name": "stdout",
     "output_type": "stream",
     "text": [
      "WARNING:tensorflow:From D:\\Fax\\LAIP\\.venv\\Lib\\site-packages\\tf_keras\\src\\losses.py:2976: The name tf.losses.sparse_softmax_cross_entropy is deprecated. Please use tf.compat.v1.losses.sparse_softmax_cross_entropy instead.\n",
      "\n"
     ]
    }
   ],
   "execution_count": 94
  },
  {
   "metadata": {
    "ExecuteTime": {
     "end_time": "2025-02-05T16:25:04.709355Z",
     "start_time": "2025-02-05T16:25:04.681317Z"
    }
   },
   "cell_type": "code",
   "source": [
    "tokenizer = Tokenizer(num_words=max_vocabulary_size)\n",
    "tokenizer.fit_on_texts(x_train.values)"
   ],
   "id": "188d1a0eed8fe7f6",
   "outputs": [],
   "execution_count": 95
  },
  {
   "metadata": {
    "ExecuteTime": {
     "end_time": "2025-02-05T16:25:23.065450Z",
     "start_time": "2025-02-05T16:25:23.026120Z"
    }
   },
   "cell_type": "code",
   "source": [
    "x_train_embedings = tokenizer.texts_to_sequences(x_train)\n",
    "x_test_embedings = tokenizer.texts_to_sequences(x_test)"
   ],
   "id": "6a439e5778e55e91",
   "outputs": [],
   "execution_count": 96
  },
  {
   "metadata": {
    "ExecuteTime": {
     "end_time": "2025-02-05T16:26:24.588683Z",
     "start_time": "2025-02-05T16:26:24.573456Z"
    }
   },
   "cell_type": "code",
   "source": "from matplotlib import pyplot as plt",
   "id": "2f9f46dd33665dc",
   "outputs": [],
   "execution_count": 99
  },
  {
   "metadata": {
    "ExecuteTime": {
     "end_time": "2025-02-05T16:26:31.083608Z",
     "start_time": "2025-02-05T16:26:30.833952Z"
    }
   },
   "cell_type": "code",
   "source": "plt.hist([len(tokens) for tokens in x_train_embedings]);",
   "id": "6ee3675be0411b2f",
   "outputs": [
    {
     "data": {
      "text/plain": [
       "<Figure size 640x480 with 1 Axes>"
      ],
      "image/png": "[encoded data removed]"
     },
     "metadata": {},
     "output_type": "display_data"
    }
   ],
   "execution_count": 100
  },
  {
   "metadata": {
    "ExecuteTime": {
     "end_time": "2025-02-05T16:26:41.067652Z",
     "start_time": "2025-02-05T16:26:40.987776Z"
    }
   },
   "cell_type": "code",
   "source": "plt.hist([len(tokens) for tokens in x_test_embedings]);",
   "id": "c5fd128a6155df3c",
   "outputs": [
    {
     "data": {
      "text/plain": [
       "<Figure size 640x480 with 1 Axes>"
      ],
      "image/png": "[encoded data removed]"
     },
     "metadata": {},
     "output_type": "display_data"
    }
   ],
   "execution_count": 101
  },
  {
   "metadata": {
    "ExecuteTime": {
     "end_time": "2025-02-05T16:33:52.575708Z",
     "start_time": "2025-02-05T16:33:52.564264Z"
    }
   },
   "cell_type": "code",
   "source": [
    "num_classes = len(df_1[\"Label\"].unique())\n",
    "output_neurons = 1 if num_classes == 2 else num_classes"
   ],
   "id": "793696dfac6a5c67",
   "outputs": [],
   "execution_count": 119
  },
  {
   "metadata": {
    "ExecuteTime": {
     "end_time": "2025-02-05T16:27:02.888876Z",
     "start_time": "2025-02-05T16:27:02.883723Z"
    }
   },
   "cell_type": "code",
   "source": "max_word_len = 30",
   "id": "dcb6a4d369f3b39d",
   "outputs": [],
   "execution_count": 102
  },
  {
   "metadata": {
    "ExecuteTime": {
     "end_time": "2025-02-05T16:27:11.379810Z",
     "start_time": "2025-02-05T16:27:11.364182Z"
    }
   },
   "cell_type": "code",
   "source": [
    "x_train_embedings_padded = sequence.pad_sequences(x_train_embedings, maxlen=max_word_len)\n",
    "x_test_embedings_padded = sequence.pad_sequences(x_test_embedings, maxlen=max_word_len)"
   ],
   "id": "f6f7a6f1a2a41985",
   "outputs": [],
   "execution_count": 103
  },
  {
   "metadata": {
    "ExecuteTime": {
     "end_time": "2025-02-05T16:37:12.047717Z",
     "start_time": "2025-02-05T16:37:11.194823Z"
    }
   },
   "cell_type": "code",
   "source": [
    "from keras.api.models import Sequential\n",
    "from keras.api.layers import Dense, Embedding, Conv1D, MaxPooling1D, LSTM\n",
    "import keras\n",
    "from sklearn.metrics import confusion_matrix, classification_report"
   ],
   "id": "98739f86f86f43bc",
   "outputs": [],
   "execution_count": 144
  },
  {
   "metadata": {
    "ExecuteTime": {
     "end_time": "2025-02-05T16:36:14.522835Z",
     "start_time": "2025-02-05T16:36:14.513603Z"
    }
   },
   "cell_type": "code",
   "source": [
    "model = Sequential([\n",
    "    Embedding(input_dim=max_vocabulary_size, output_dim=128),\n",
    "    Conv1D(filters=32, kernel_size=4, padding=\"same\", activation=\"relu\"),\n",
    "    MaxPooling1D(pool_size=2),\n",
    "    LSTM(64, dropout=0.1, recurrent_dropout=0.1),\n",
    "    Dense(num_classes, activation=\"softmax\")\n",
    "])"
   ],
   "id": "60b70c81cb73d4f7",
   "outputs": [],
   "execution_count": 137
  },
  {
   "metadata": {
    "ExecuteTime": {
     "end_time": "2025-02-05T16:36:14.936365Z",
     "start_time": "2025-02-05T16:36:14.910105Z"
    }
   },
   "cell_type": "code",
   "source": "model.summary()",
   "id": "deb4cef3010a43df",
   "outputs": [
    {
     "data": {
      "text/plain": [
       "\u001B[1mModel: \"sequential_10\"\u001B[0m\n"
      ],
      "text/html": [
       "<pre style=\"white-space:pre;overflow-x:auto;line-height:normal;font-family:Menlo,'DejaVu Sans Mono',consolas,'Courier New',monospace\"><span style=\"font-weight: bold\">Model: \"sequential_10\"</span>\n",
       "</pre>\n"
      ]
     },
     "metadata": {},
     "output_type": "display_data"
    },
    {
     "data": {
      "text/plain": [
       "┏━━━━━━━━━━━━━━━━━━━━━━━━━━━━━━━━━┳━━━━━━━━━━━━━━━━━━━━━━━━┳━━━━━━━━━━━━━━━┓\n",
       "┃\u001B[1m \u001B[0m\u001B[1mLayer (type)                   \u001B[0m\u001B[1m \u001B[0m┃\u001B[1m \u001B[0m\u001B[1mOutput Shape          \u001B[0m\u001B[1m \u001B[0m┃\u001B[1m \u001B[0m\u001B[1m      Param #\u001B[0m\u001B[1m \u001B[0m┃\n",
       "┡━━━━━━━━━━━━━━━━━━━━━━━━━━━━━━━━━╇━━━━━━━━━━━━━━━━━━━━━━━━╇━━━━━━━━━━━━━━━┩\n",
       "│ embedding_10 (\u001B[38;5;33mEmbedding\u001B[0m)        │ ?                      │   \u001B[38;5;34m0\u001B[0m (unbuilt) │\n",
       "├─────────────────────────────────┼────────────────────────┼───────────────┤\n",
       "│ conv1d_10 (\u001B[38;5;33mConv1D\u001B[0m)              │ ?                      │   \u001B[38;5;34m0\u001B[0m (unbuilt) │\n",
       "├─────────────────────────────────┼────────────────────────┼───────────────┤\n",
       "│ max_pooling1d_10 (\u001B[38;5;33mMaxPooling1D\u001B[0m) │ ?                      │             \u001B[38;5;34m0\u001B[0m │\n",
       "├─────────────────────────────────┼────────────────────────┼───────────────┤\n",
       "│ lstm_10 (\u001B[38;5;33mLSTM\u001B[0m)                  │ ?                      │   \u001B[38;5;34m0\u001B[0m (unbuilt) │\n",
       "├─────────────────────────────────┼────────────────────────┼───────────────┤\n",
       "│ dense_10 (\u001B[38;5;33mDense\u001B[0m)                │ ?                      │   \u001B[38;5;34m0\u001B[0m (unbuilt) │\n",
       "└─────────────────────────────────┴────────────────────────┴───────────────┘\n"
      ],
      "text/html": [
       "<pre style=\"white-space:pre;overflow-x:auto;line-height:normal;font-family:Menlo,'DejaVu Sans Mono',consolas,'Courier New',monospace\">┏━━━━━━━━━━━━━━━━━━━━━━━━━━━━━━━━━┳━━━━━━━━━━━━━━━━━━━━━━━━┳━━━━━━━━━━━━━━━┓\n",
       "┃<span style=\"font-weight: bold\"> Layer (type)                    </span>┃<span style=\"font-weight: bold\"> Output Shape           </span>┃<span style=\"font-weight: bold\">       Param # </span>┃\n",
       "┡━━━━━━━━━━━━━━━━━━━━━━━━━━━━━━━━━╇━━━━━━━━━━━━━━━━━━━━━━━━╇━━━━━━━━━━━━━━━┩\n",
       "│ embedding_10 (<span style=\"color: #0087ff; text-decoration-color: #0087ff\">Embedding</span>)        │ ?                      │   <span style=\"color: #00af00; text-decoration-color: #00af00\">0</span> (unbuilt) │\n",
       "├─────────────────────────────────┼────────────────────────┼───────────────┤\n",
       "│ conv1d_10 (<span style=\"color: #0087ff; text-decoration-color: #0087ff\">Conv1D</span>)              │ ?                      │   <span style=\"color: #00af00; text-decoration-color: #00af00\">0</span> (unbuilt) │\n",
       "├─────────────────────────────────┼────────────────────────┼───────────────┤\n",
       "│ max_pooling1d_10 (<span style=\"color: #0087ff; text-decoration-color: #0087ff\">MaxPooling1D</span>) │ ?                      │             <span style=\"color: #00af00; text-decoration-color: #00af00\">0</span> │\n",
       "├─────────────────────────────────┼────────────────────────┼───────────────┤\n",
       "│ lstm_10 (<span style=\"color: #0087ff; text-decoration-color: #0087ff\">LSTM</span>)                  │ ?                      │   <span style=\"color: #00af00; text-decoration-color: #00af00\">0</span> (unbuilt) │\n",
       "├─────────────────────────────────┼────────────────────────┼───────────────┤\n",
       "│ dense_10 (<span style=\"color: #0087ff; text-decoration-color: #0087ff\">Dense</span>)                │ ?                      │   <span style=\"color: #00af00; text-decoration-color: #00af00\">0</span> (unbuilt) │\n",
       "└─────────────────────────────────┴────────────────────────┴───────────────┘\n",
       "</pre>\n"
      ]
     },
     "metadata": {},
     "output_type": "display_data"
    },
    {
     "data": {
      "text/plain": [
       "\u001B[1m Total params: \u001B[0m\u001B[38;5;34m0\u001B[0m (0.00 B)\n"
      ],
      "text/html": [
       "<pre style=\"white-space:pre;overflow-x:auto;line-height:normal;font-family:Menlo,'DejaVu Sans Mono',consolas,'Courier New',monospace\"><span style=\"font-weight: bold\"> Total params: </span><span style=\"color: #00af00; text-decoration-color: #00af00\">0</span> (0.00 B)\n",
       "</pre>\n"
      ]
     },
     "metadata": {},
     "output_type": "display_data"
    },
    {
     "data": {
      "text/plain": [
       "\u001B[1m Trainable params: \u001B[0m\u001B[38;5;34m0\u001B[0m (0.00 B)\n"
      ],
      "text/html": [
       "<pre style=\"white-space:pre;overflow-x:auto;line-height:normal;font-family:Menlo,'DejaVu Sans Mono',consolas,'Courier New',monospace\"><span style=\"font-weight: bold\"> Trainable params: </span><span style=\"color: #00af00; text-decoration-color: #00af00\">0</span> (0.00 B)\n",
       "</pre>\n"
      ]
     },
     "metadata": {},
     "output_type": "display_data"
    },
    {
     "data": {
      "text/plain": [
       "\u001B[1m Non-trainable params: \u001B[0m\u001B[38;5;34m0\u001B[0m (0.00 B)\n"
      ],
      "text/html": [
       "<pre style=\"white-space:pre;overflow-x:auto;line-height:normal;font-family:Menlo,'DejaVu Sans Mono',consolas,'Courier New',monospace\"><span style=\"font-weight: bold\"> Non-trainable params: </span><span style=\"color: #00af00; text-decoration-color: #00af00\">0</span> (0.00 B)\n",
       "</pre>\n"
      ]
     },
     "metadata": {},
     "output_type": "display_data"
    }
   ],
   "execution_count": 138
  },
  {
   "metadata": {
    "ExecuteTime": {
     "end_time": "2025-02-05T16:36:17.510433Z",
     "start_time": "2025-02-05T16:36:17.490988Z"
    }
   },
   "cell_type": "code",
   "source": [
    "model.compile(\n",
    "    loss=keras.losses.BinaryCrossentropy(),\n",
    "    optimizer=keras.optimizers.Adam(),\n",
    "    metrics=[keras.metrics.Recall(), keras.metrics.F1Score(), keras.metrics.Precision()]\n",
    ")"
   ],
   "id": "64d145e58a28bc37",
   "outputs": [],
   "execution_count": 139
  },
  {
   "metadata": {
    "ExecuteTime": {
     "end_time": "2025-02-05T16:36:23.156663Z",
     "start_time": "2025-02-05T16:36:17.839889Z"
    }
   },
   "cell_type": "code",
   "source": "history = model.fit(x_train_embedings_padded, y_train, validation_split=0.2, batch_size=16, epochs=4)",
   "id": "a4a2c854a1cc465",
   "outputs": [
    {
     "name": "stdout",
     "output_type": "stream",
     "text": [
      "Epoch 1/4\n",
      "\u001B[1m84/84\u001B[0m \u001B[32m━━━━━━━━━━━━━━━━━━━━\u001B[0m\u001B[37m\u001B[0m \u001B[1m3s\u001B[0m 13ms/step - f1_score: 0.4609 - loss: 0.6904 - precision_3: 0.5355 - recall_3: 0.5355 - val_f1_score: 0.5512 - val_loss: 0.6709 - val_precision_3: 0.6209 - val_recall_3: 0.6209\n",
      "Epoch 2/4\n",
      "\u001B[1m84/84\u001B[0m \u001B[32m━━━━━━━━━━━━━━━━━━━━\u001B[0m\u001B[37m\u001B[0m \u001B[1m1s\u001B[0m 8ms/step - f1_score: 0.6834 - loss: 0.6032 - precision_3: 0.7035 - recall_3: 0.7035 - val_f1_score: 0.6927 - val_loss: 0.5814 - val_precision_3: 0.6985 - val_recall_3: 0.6985\n",
      "Epoch 3/4\n",
      "\u001B[1m84/84\u001B[0m \u001B[32m━━━━━━━━━━━━━━━━━━━━\u001B[0m\u001B[37m\u001B[0m \u001B[1m1s\u001B[0m 8ms/step - f1_score: 0.8914 - loss: 0.2903 - precision_3: 0.8928 - recall_3: 0.8928 - val_f1_score: 0.6769 - val_loss: 0.6770 - val_precision_3: 0.6806 - val_recall_3: 0.6806\n",
      "Epoch 4/4\n",
      "\u001B[1m84/84\u001B[0m \u001B[32m━━━━━━━━━━━━━━━━━━━━\u001B[0m\u001B[37m\u001B[0m \u001B[1m1s\u001B[0m 8ms/step - f1_score: 0.9636 - loss: 0.1268 - precision_3: 0.9636 - recall_3: 0.9636 - val_f1_score: 0.6927 - val_loss: 0.7946 - val_precision_3: 0.6985 - val_recall_3: 0.6985\n"
     ]
    }
   ],
   "execution_count": 140
  },
  {
   "metadata": {
    "ExecuteTime": {
     "end_time": "2025-02-05T16:31:45.029441Z",
     "start_time": "2025-02-05T16:31:43.070143Z"
    }
   },
   "cell_type": "code",
   "source": "import seaborn as sns",
   "id": "9ae42d51ccb1a16b",
   "outputs": [],
   "execution_count": 111
  },
  {
   "metadata": {
    "ExecuteTime": {
     "end_time": "2025-02-05T16:36:27.081797Z",
     "start_time": "2025-02-05T16:36:26.975925Z"
    }
   },
   "cell_type": "code",
   "source": [
    "sns.lineplot(history.history[\"loss\"], label=\"loss\")\n",
    "sns.lineplot(history.history[\"val_loss\"], label=\"val_loss\")"
   ],
   "id": "f646055fca885f32",
   "outputs": [
    {
     "data": {
      "text/plain": [
       "<Axes: >"
      ]
     },
     "execution_count": 141,
     "metadata": {},
     "output_type": "execute_result"
    },
    {
     "data": {
      "text/plain": [
       "<Figure size 640x480 with 1 Axes>"
      ],
      "image/png": "[encoded data removed]"
     },
     "metadata": {},
     "output_type": "display_data"
    }
   ],
   "execution_count": 141
  },
  {
   "metadata": {
    "ExecuteTime": {
     "end_time": "2025-02-05T16:38:41.869315Z",
     "start_time": "2025-02-05T16:38:41.709234Z"
    }
   },
   "cell_type": "code",
   "source": "predicts = model.predict(x_test_embedings_padded)",
   "id": "9793fb9495155651",
   "outputs": [
    {
     "name": "stdout",
     "output_type": "stream",
     "text": [
      "\u001B[1m12/12\u001B[0m \u001B[32m━━━━━━━━━━━━━━━━━━━━\u001B[0m\u001B[37m\u001B[0m \u001B[1m0s\u001B[0m 5ms/step \n"
     ]
    }
   ],
   "execution_count": 148
  },
  {
   "metadata": {
    "ExecuteTime": {
     "end_time": "2025-02-05T16:39:20.938796Z",
     "start_time": "2025-02-05T16:39:20.933596Z"
    }
   },
   "cell_type": "code",
   "source": [
    "test_y_arg = y_test.values.argmax(axis=1)\n",
    "predicts_arg = predicts.argmax(axis=1)"
   ],
   "id": "4bf1342e63d85b16",
   "outputs": [],
   "execution_count": 154
  },
  {
   "metadata": {
    "ExecuteTime": {
     "end_time": "2025-02-05T16:37:16.127822Z",
     "start_time": "2025-02-05T16:37:16.116495Z"
    }
   },
   "cell_type": "code",
   "source": "print(classification_report(test_y_arg, predicts_arg))",
   "id": "64a9babf36a12bbd",
   "outputs": [
    {
     "name": "stdout",
     "output_type": "stream",
     "text": [
      "              precision    recall  f1-score   support\n",
      "\n",
      "           0       0.59      0.76      0.66       189\n",
      "           1       0.66      0.47      0.55       190\n",
      "\n",
      "    accuracy                           0.61       379\n",
      "   macro avg       0.63      0.62      0.61       379\n",
      "weighted avg       0.63      0.61      0.61       379\n",
      "\n"
     ]
    }
   ],
   "execution_count": 145
  },
  {
   "metadata": {
    "ExecuteTime": {
     "end_time": "2025-02-05T16:37:46.663547Z",
     "start_time": "2025-02-05T16:37:45.896791Z"
    }
   },
   "cell_type": "code",
   "source": [
    "sns.heatmap(confusion_matrix(test_y_arg, predicts_arg), annot=True, fmt=\"5.2f\", cmap=\"Blues\")\n",
    "plt.xlabel(\"Predicted Labels\")\n",
    "plt.ylabel(\"True Labels\")\n",
    "plt.title(\"Confusion Matrix\")"
   ],
   "id": "6f7d75e2d3151e50",
   "outputs": [
    {
     "data": {
      "text/plain": [
       "Text(0.5, 1.0, 'Confusion Matrix')"
      ]
     },
     "execution_count": 146,
     "metadata": {},
     "output_type": "execute_result"
    },
    {
     "data": {
      "text/plain": [
       "<Figure size 640x480 with 2 Axes>"
      ],
      "image/png": "[encoded data removed]"
     },
     "metadata": {},
     "output_type": "display_data"
    }
   ],
   "execution_count": 146
  }
 ],
 "metadata": {
  "kernelspec": {
   "display_name": "Python 3",
   "language": "python",
   "name": "python3"
  },
  "language_info": {
   "codemirror_mode": {
    "name": "ipython",
    "version": 2
   },
   "file_extension": ".py",
   "mimetype": "text/x-python",
   "name": "python",
   "nbconvert_exporter": "python",
   "pygments_lexer": "ipython2",
   "version": "2.7.6"
  }
 },
 "nbformat": 4,
 "nbformat_minor": 5
}
